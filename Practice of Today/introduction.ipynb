{
 "cells": [
  {
   "cell_type": "markdown",
   "id": "ef6bb29e",
   "metadata": {},
   "source": [
    "# Introduction to Python Programming\n"
   ]
  },
  {
   "cell_type": "code",
   "execution_count": 1,
   "id": "8ad1d65d",
   "metadata": {},
   "outputs": [
    {
     "name": "stdout",
     "output_type": "stream",
     "text": [
      "560\n"
     ]
    }
   ],
   "source": [
    "a = 28\n",
    "b = 20\n",
    "print(a*b)"
   ]
  },
  {
   "cell_type": "code",
   "execution_count": 1,
   "id": "7e71a0dd",
   "metadata": {},
   "outputs": [
    {
     "name": "stdout",
     "output_type": "stream",
     "text": [
      "<class 'int'>\n",
      "<class 'float'>\n",
      "<class 'str'>\n"
     ]
    }
   ],
   "source": [
    "# Variable Defination\n",
    "number = 1000  # Defining Integer Variable\n",
    "decimal=1000.890   # Defining Float Variable : Decimal Values\n",
    "string='Hello World' #Defination String: \"Text Information\"\n",
    "\n",
    "'''\n",
    "\n",
    "Data  types in Python are as follows:\n",
    "1. Integer\n",
    "2. Float\n",
    "3. String \n",
    "\n",
    "'''\n",
    "# Checking Datatype of Variables\n",
    "print(type (number))\n",
    "print(type(decimal))\n",
    "print(type(string)) "
   ]
  },
  {
   "cell_type": "code",
   "execution_count": 2,
   "id": "dcaf626e",
   "metadata": {},
   "outputs": [
    {
     "name": "stdout",
     "output_type": "stream",
     "text": [
      "100\n"
     ]
    }
   ],
   "source": [
    "#Type casting of data type\n",
    "num = 100.2908383 # Datatype : Float\n",
    "\n",
    "print(int(num)) # float is typecasted to int"
   ]
  },
  {
   "cell_type": "code",
   "execution_count": 3,
   "id": "b4230743",
   "metadata": {},
   "outputs": [
    {
     "name": "stdout",
     "output_type": "stream",
     "text": [
      "<class 'str'>\n",
      "200\n",
      "200.0\n"
     ]
    }
   ],
   "source": [
    "# Using input()\n",
    "num = input ('Enter the value:')\n",
    "'''\n",
    "Whenever we use input function, the out of input function is always string\n",
    "'''\n",
    "print(type(num))\n",
    "\n",
    "print(int(num)) \n",
    "print(float(num))\n"
   ]
  },
  {
   "cell_type": "code",
   "execution_count": 4,
   "id": "ce098ae0",
   "metadata": {},
   "outputs": [
    {
     "name": "stdout",
     "output_type": "stream",
     "text": [
      "<class 'str'>\n",
      "raj\n"
     ]
    }
   ],
   "source": [
    "# ask the user to enter the the string using input function \n",
    "str = input ('Enter the name of the person: ')\n",
    "print(type(str))\n",
    "print(str)"
   ]
  },
  {
   "cell_type": "code",
   "execution_count": 5,
   "id": "79385845",
   "metadata": {},
   "outputs": [
    {
     "name": "stdout",
     "output_type": "stream",
     "text": [
      "The addition of two numbers as 23.0 and 25.0 is 48.0\n"
     ]
    }
   ],
   "source": [
    "# Perform mathmatical Operations\n",
    "\n",
    "num1 = float(input('Enter the first Number:'))\n",
    "num2 = float(input('Enter  the first Number:'))\n",
    "\n",
    "num3 = num1 + num2\n",
    "\n",
    "# using fstring method\n",
    "\n",
    "print (f'The addition of two numbers as {num1} and {num2} is', num3)"
   ]
  },
  {
   "cell_type": "code",
   "execution_count": 8,
   "id": "f6f204bb",
   "metadata": {},
   "outputs": [
    {
     "ename": "IndexError",
     "evalue": "string index out of range",
     "output_type": "error",
     "traceback": [
      "\u001b[1;31m---------------------------------------------------------------------------\u001b[0m",
      "\u001b[1;31mIndexError\u001b[0m                                Traceback (most recent call last)",
      "Cell \u001b[1;32mIn[8], line 13\u001b[0m\n\u001b[0;32m      3\u001b[0m string \u001b[38;5;241m=\u001b[39m \u001b[38;5;28minput\u001b[39m(\u001b[38;5;124m'\u001b[39m\u001b[38;5;124mEnter the string:\u001b[39m\u001b[38;5;124m'\u001b[39m)\n\u001b[0;32m      6\u001b[0m \u001b[38;5;124;03m''' \u001b[39;00m\n\u001b[0;32m      7\u001b[0m \u001b[38;5;124;03mH E L L O   W O R L D\u001b[39;00m\n\u001b[0;32m      8\u001b[0m \u001b[38;5;124;03m0 1 2 3 4 5 6 7 8 9 10 : L ---> R\u001b[39;00m\n\u001b[0;32m      9\u001b[0m \u001b[38;5;124;03m..............-3 -2 -1 : L ---> R\u001b[39;00m\n\u001b[0;32m     10\u001b[0m \n\u001b[0;32m     11\u001b[0m \u001b[38;5;124;03m'''\u001b[39;00m\n\u001b[1;32m---> 13\u001b[0m \u001b[38;5;28mprint\u001b[39m(string[\u001b[38;5;241m6\u001b[39m]) \u001b[38;5;66;03m# Indexing\u001b[39;00m\n\u001b[0;32m     14\u001b[0m \u001b[38;5;28mprint\u001b[39m(string[\u001b[38;5;241m-\u001b[39m\u001b[38;5;241m5\u001b[39m])\n",
      "\u001b[1;31mIndexError\u001b[0m: string index out of range"
     ]
    }
   ],
   "source": [
    "# strings Indexing and Slicing\n",
    "\n",
    "string = input('Enter the string:')\n",
    "\n",
    "\n",
    "''' \n",
    "H E L L O   W O R L D\n",
    "0 1 2 3 4 5 6 7 8 9 10 : L ---> R\n",
    "..............-3 -2 -1 : L ---> R\n",
    "\n",
    "'''\n",
    "\n",
    "print(string[6]) # Indexing\n",
    "print(string[-5]) #Indexing"
   ]
  },
  {
   "cell_type": "code",
   "execution_count": null,
   "id": "1dd31c58",
   "metadata": {},
   "outputs": [],
   "source": []
  },
  {
   "cell_type": "code",
   "execution_count": null,
   "id": "0e61841e",
   "metadata": {},
   "outputs": [],
   "source": []
  },
  {
   "cell_type": "code",
   "execution_count": null,
   "id": "cab61469",
   "metadata": {},
   "outputs": [],
   "source": []
  },
  {
   "cell_type": "code",
   "execution_count": null,
   "id": "65cbee52",
   "metadata": {},
   "outputs": [],
   "source": []
  },
  {
   "cell_type": "code",
   "execution_count": null,
   "id": "bb825131",
   "metadata": {},
   "outputs": [],
   "source": []
  },
  {
   "cell_type": "code",
   "execution_count": null,
   "id": "0f2da27f",
   "metadata": {},
   "outputs": [],
   "source": []
  },
  {
   "cell_type": "code",
   "execution_count": null,
   "id": "38761225",
   "metadata": {},
   "outputs": [],
   "source": []
  },
  {
   "cell_type": "code",
   "execution_count": null,
   "id": "0f087834",
   "metadata": {},
   "outputs": [],
   "source": []
  },
  {
   "cell_type": "code",
   "execution_count": null,
   "id": "b3b942fe",
   "metadata": {},
   "outputs": [],
   "source": []
  },
  {
   "cell_type": "code",
   "execution_count": null,
   "id": "b698d41d",
   "metadata": {},
   "outputs": [],
   "source": []
  },
  {
   "cell_type": "code",
   "execution_count": null,
   "id": "e9bc253f",
   "metadata": {},
   "outputs": [],
   "source": []
  },
  {
   "cell_type": "code",
   "execution_count": null,
   "id": "9d9b7078",
   "metadata": {},
   "outputs": [],
   "source": []
  },
  {
   "cell_type": "code",
   "execution_count": null,
   "id": "e2daf81f",
   "metadata": {},
   "outputs": [],
   "source": []
  },
  {
   "cell_type": "code",
   "execution_count": null,
   "id": "56c72fdc",
   "metadata": {},
   "outputs": [],
   "source": []
  },
  {
   "cell_type": "code",
   "execution_count": null,
   "id": "a3e34e34",
   "metadata": {},
   "outputs": [],
   "source": []
  }
 ],
 "metadata": {
  "kernelspec": {
   "display_name": "base",
   "language": "python",
   "name": "python3"
  },
  "language_info": {
   "codemirror_mode": {
    "name": "ipython",
    "version": 3
   },
   "file_extension": ".py",
   "mimetype": "text/x-python",
   "name": "python",
   "nbconvert_exporter": "python",
   "pygments_lexer": "ipython3",
   "version": "3.12.7"
  }
 },
 "nbformat": 4,
 "nbformat_minor": 5
}
