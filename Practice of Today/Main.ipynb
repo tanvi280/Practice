{
 "cells": [
  {
   "cell_type": "markdown",
   "id": "cf34f74e",
   "metadata": {},
   "source": []
  }
 ],
 "metadata": {
  "language_info": {
   "name": "python"
  }
 },
 "nbformat": 4,
 "nbformat_minor": 5
}
